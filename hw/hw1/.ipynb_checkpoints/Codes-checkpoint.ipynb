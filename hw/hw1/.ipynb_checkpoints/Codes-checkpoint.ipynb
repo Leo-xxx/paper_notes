{
 "cells": [
  {
   "cell_type": "code",
   "execution_count": 12,
   "metadata": {},
   "outputs": [],
   "source": [
    "import pickle\n",
    "with open('./hw1_data/data.pickle','r') as f:\n",
    "    data = pickle.load(f)\n",
    "#print data.keys()\n",
    "#[u'database_name', u'query_identity', u'database_identity', u'query_name', u'database_feature', u'query_feature']\n",
    "src = data['database_feature']\n"
   ]
  },
  {
   "cell_type": "code",
   "execution_count": 9,
   "metadata": {},
   "outputs": [],
   "source": [
    "# read attributes\n",
    "with open('./hw1_data/lfw_attributes.txt') as f:\n",
    "    ls = f.readlines()\n",
    "l = ls[1]\n"
   ]
  },
  {
   "cell_type": "code",
   "execution_count": 60,
   "metadata": {},
   "outputs": [
    {
     "name": "stdout",
     "output_type": "stream",
     "text": [
      "[1.0, 1.0, 0.5714285714285714, 0.5714285714285714, 0.45454545454545453, 0.375]\n",
      "0.6620670995670995\n",
      "0.6501623376623377\n"
     ]
    }
   ],
   "source": [
    "# l2_distance.py\n",
    "import numpy as np\n",
    "X = src\n",
    "Y = data['database_name'].ravel()\n",
    "def l2_distance(database, query):\n",
    "    q = query.ravel()\n",
    "    assert len(q) == 4720\n",
    "    assert len(database.shape) == 2 and database.shape[1] == 4720\n",
    "    distances = []\n",
    "    for x in X:\n",
    "        distances.append(np.linalg.norm(x-q,ord=2))\n",
    "    return distances\n",
    "# calculate_map.py\n",
    "def test():\n",
    "    q = X[0,:]\n",
    "    print l2_distance(q)\n",
    "from sklearn.metrics import average_precision_score\n",
    "def ap2(distances, y):\n",
    "    hit = 0\n",
    "    n = 0\n",
    "    precisions = []\n",
    "    true_label_count = sum(y)\n",
    "    for i in np.argsort(distances):\n",
    "        y_true = y[i]\n",
    "        n +=1\n",
    "        if y_true == 1:\n",
    "            hit += 1\n",
    "            \n",
    "            precisions.append(float(hit)/n)\n",
    "            if hit == true_label_count:\n",
    "                break\n",
    "    ap = sum(precisions) / true_label_count\n",
    "    print ap\n",
    "\n",
    "\n",
    "d = range(20)\n",
    "y = [1,1,0,0,0,1,1,0,0,0,1,0,0,0,0,1,0,0,0,0]\n",
    "ap(d,y)\n",
    "d2 = [i for i in reversed(d)]\n",
    "print average_precision_score(y,d2)\n",
    "# test()\n",
    "\n"
   ]
  },
  {
   "cell_type": "code",
   "execution_count": 5,
   "metadata": {},
   "outputs": [
    {
     "name": "stdout",
     "output_type": "stream",
     "text": [
      "(13113, 4720)\n",
      "0.001958413012971172\n",
      "2.007898086224901e-05\n",
      "(13113, 80, 59)\n"
     ]
    }
   ],
   "source": [
    "import spams\n",
    "import numpy as np\n",
    "print src.shape\n",
    "num = src.shape[0]\n",
    "X = src.reshape([num, 80,59])\n",
    "Y = src.reshape([num, 59,80])\n",
    "print np.var(X[:,22,10])\n",
    "print np.var(Y[:,22,10])\n",
    "\n",
    "\n",
    "\n",
    "# X = src[:3200,:]\n",
    "\n",
    "\n",
    "# X = np.swapaxes(X,axis1=0,axis2=1)\n",
    "X = np.asfortranarray(X)\n",
    "print X.shape\n",
    "\n",
    "lambda1 = [10**i for i in range(-6,-3,1)]\n",
    "K = range(100,3200,400)\n",
    "param = { 'K' : 1600, # learns a dictionary with 100 elements\n",
    "          'lambda1' : 10**-2, 'numThreads' : 16, 'batchsize' : 400,\n",
    "          'iter' : 10}"
   ]
  },
  {
   "cell_type": "code",
   "execution_count": null,
   "metadata": {},
   "outputs": [],
   "source": [
    "print X.shape\n",
    "\n",
    "import time\n",
    "########## FIRST EXPERIMENT ###########\n",
    "tic = time.time()\n",
    "\n",
    "D = spams.trainDL(X,**param)\n",
    "tac = time.time()\n",
    "t = tac - tic\n",
    "print('time of computation for Dictionary Learning: %f' %t)"
   ]
  },
  {
   "cell_type": "code",
   "execution_count": 36,
   "metadata": {},
   "outputs": [
    {
     "name": "stdout",
     "output_type": "stream",
     "text": [
      "(64, 64, 3)\n",
      "(64, 10545)\n"
     ]
    },
    {
     "name": "stderr",
     "output_type": "stream",
     "text": [
      "/usr/local/lib/python2.7/dist-packages/ipykernel_launcher.py:25: RuntimeWarning: invalid value encountered in divide\n"
     ]
    },
    {
     "name": "stdout",
     "output_type": "stream",
     "text": [
      "time of computation for Dictionary Learning: 1.949573\n"
     ]
    }
   ],
   "source": [
    "import spams\n",
    "import numpy as np\n",
    "from PIL import Image\n",
    "from matplotlib import pyplot as plt\n",
    "img_file = './equ3.png'\n",
    "try:\n",
    "    img = Image.open(img_file)\n",
    "except:\n",
    "    print(\"Cannot load image %s : skipping test\" %img_file)\n",
    "I = np.array(img) / 255.\n",
    "I = I[:64,:64,:3]\n",
    "print I.shape\n",
    "\n",
    "if I.ndim == 3:\n",
    "    A = np.asfortranarray(I.reshape((I.shape[0],I.shape[1] * I.shape[2])))\n",
    "    rgb = True\n",
    "else:\n",
    "    A = np.asfortranarray(I)\n",
    "    rgb = False\n",
    "\n",
    "m = 8\n",
    "n = 8\n",
    "X = spams.im2col_sliding(A,m,n,rgb)\n",
    "X = X - np.tile(np.mean(X,0),(X.shape[0],1))\n",
    "X = np.asfortranarray(X / np.tile(np.sqrt((X * X).sum(axis=0)),(X.shape[0],1)),dtype = float)\n",
    "param = { 'K' : 100, # learns a dictionary with 100 elements\n",
    "          'lambda1' : 0.15, 'numThreads' : 4, 'batchsize' : 400,\n",
    "          'iter' : 1000}\n",
    "# X = I\n",
    "print X.shape\n",
    "\n",
    "import time\n",
    "########## FIRST EXPERIMENT ###########\n",
    "tic = time.time()\n",
    "\n",
    "D = spams.trainDL(X,**param)\n",
    "tac = time.time()\n",
    "t = tac - tic\n",
    "print('time of computation for Dictionary Learning: %f' %t)"
   ]
  },
  {
   "cell_type": "code",
   "execution_count": null,
   "metadata": {},
   "outputs": [],
   "source": [
    "# Pickle transform from protocol 3 to 2\n",
    "# Must be kernel python3\n",
    "import pickle\n",
    "def trans(src, dst):\n",
    "    with open(src,'rb') as f:\n",
    "        data = pickle.load(f)\n",
    "    with open(dst,'wb') as f\n",
    "        pickle.dump(data, dst, protocol=2)\n",
    "    "
   ]
  }
 ],
 "metadata": {
  "kernelspec": {
   "display_name": "Python 2",
   "language": "python",
   "name": "python2"
  },
  "language_info": {
   "codemirror_mode": {
    "name": "ipython",
    "version": 2
   },
   "file_extension": ".py",
   "mimetype": "text/x-python",
   "name": "python",
   "nbconvert_exporter": "python",
   "pygments_lexer": "ipython2",
   "version": "2.7.12"
  }
 },
 "nbformat": 4,
 "nbformat_minor": 2
}
