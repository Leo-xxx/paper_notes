{
 "cells": [
  {
   "cell_type": "code",
   "execution_count": null,
   "metadata": {},
   "outputs": [],
   "source": [
    "from keras.models import save_model, load_model\n",
    "from os.path import join\n",
    "import numpy as np\n",
    "import os\n",
    "\n",
    "def load(dir_name):\n",
    "    # load model\n",
    "    \n",
    "    print 'load model from %s' % (dir_name)\n",
    "    \n",
    "    dir_path = join('./','test_models',dir_name)\n",
    "    \n",
    "    netDA = load_model(join(dir_path,'netDA.hdf5'))\n",
    "    netDB = load_model(join(dir_path,'netDB.hdf5'))\n",
    "    netGA = load_model(join(dir_path,'netGA.hdf5'))\n",
    "    netGB = load_model(join(dir_path,'netGB.hdf5'))\n",
    "load('face2emoji_256_less')\n",
    "\n",
    "\n",
    "\n"
   ]
  }
 ],
 "metadata": {
  "kernelspec": {
   "display_name": "Python 2.7.12",
   "language": "python",
   "name": "python2.7.12"
  },
  "language_info": {
   "codemirror_mode": {
    "name": "ipython",
    "version": 2
   },
   "file_extension": ".py",
   "mimetype": "text/x-python",
   "name": "python",
   "nbconvert_exporter": "python",
   "pygments_lexer": "ipython2",
   "version": "2.7.12"
  }
 },
 "nbformat": 4,
 "nbformat_minor": 2
}
