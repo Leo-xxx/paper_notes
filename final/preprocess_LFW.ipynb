{
 "cells": [
  {
   "cell_type": "code",
   "execution_count": 33,
   "metadata": {},
   "outputs": [
    {
     "name": "stdout",
     "output_type": "stream",
     "text": [
      "13233\n"
     ]
    }
   ],
   "source": [
    "import os\n",
    "from os.path import join\n",
    "lfw_path = join('./','lfw-deepfunneled/')\n",
    "sub_dirs = [join(lfw_path,d) for d in os.listdir(lfw_path) if os.path.isdir(join(lfw_path,d)) ]\n",
    "\n",
    "# \n",
    "index = 1\n",
    "jpg_files = []\n",
    "for d in sub_dirs:\n",
    "    img_path = [join(d,sd) for sd in os.listdir(d)]\n",
    "    jpg_path = [path for path in img_path if os.path.isfile(path) and path.endswith('.jpg')]\n",
    "    for path in jpg_path:\n",
    "        jpg_files.append(path)\n",
    "\n",
    "    "
   ]
  },
  {
   "cell_type": "code",
   "execution_count": 37,
   "metadata": {},
   "outputs": [
    {
     "name": "stdout",
     "output_type": "stream",
     "text": [
      "Done\n"
     ]
    }
   ],
   "source": [
    "from shutil import copyfile\n",
    "output_dir = join('./','lfw')\n",
    "if not os.path.isdir(output_dir):\n",
    "    os.mkdir(output_dir)\n",
    "    \n",
    "for i,jpg_path in enumerate(jpg_files):\n",
    "    path = join(output_dir,'%d.jpg'%i)\n",
    "    copyfile(jpg_path, path)\n",
    "print 'Done'\n",
    "#     for img_path in os.listdir(d)\n",
    "\n"
   ]
  }
 ],
 "metadata": {
  "kernelspec": {
   "display_name": "Python 2.7.15 (virtualenv)",
   "language": "python",
   "name": "python2.7.15"
  },
  "language_info": {
   "codemirror_mode": {
    "name": "ipython",
    "version": 2
   },
   "file_extension": ".py",
   "mimetype": "text/x-python",
   "name": "python",
   "nbconvert_exporter": "python",
   "pygments_lexer": "ipython2",
   "version": "2.7.15"
  }
 },
 "nbformat": 4,
 "nbformat_minor": 2
}
