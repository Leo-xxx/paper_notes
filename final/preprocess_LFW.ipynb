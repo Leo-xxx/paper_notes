{
 "cells": [
  {
   "cell_type": "code",
   "execution_count": 1,
   "metadata": {},
   "outputs": [],
   "source": [
    "import os\n",
    "from os.path import join\n",
    "lfw_path = join('./','buf_data','lfw-deepfunneled/')\n",
    "sub_dirs = [join(lfw_path,d) for d in os.listdir(lfw_path) if os.path.isdir(join(lfw_path,d)) ]\n",
    "\n",
    "# \n",
    "index = 1\n",
    "jpg_files = []\n",
    "for d in sub_dirs:\n",
    "    img_path = [join(d,sd) for sd in os.listdir(d)]\n",
    "    jpg_path = [path for path in img_path if os.path.isfile(path) and path.endswith('.jpg')]\n",
    "    for path in jpg_path:\n",
    "        jpg_files.append(path)\n",
    "\n",
    "    "
   ]
  },
  {
   "cell_type": "code",
   "execution_count": 2,
   "metadata": {},
   "outputs": [
    {
     "name": "stdout",
     "output_type": "stream",
     "text": [
      "Done\n"
     ]
    }
   ],
   "source": [
    "from shutil import copyfile\n",
    "train_dir = join('./','lfw','trainA')\n",
    "test_dir = join('./','lfw','testA')\n",
    "root_dir = join('./','lfw')\n",
    "if not os.path.isdir(root_dir):\n",
    "    os.mkdir(root_dir)\n",
    "if not os.path.isdir(train_dir):\n",
    "    os.mkdir(train_dir)\n",
    "if not os.path.isdir(test_dir):\n",
    "    os.mkdir(test_dir)\n",
    "N = len(jpg_files)\n",
    "test_count = N // 10\n",
    "train_count = N - test_count\n",
    "\n",
    "# train\n",
    "for i,jpg_path in enumerate(jpg_files[:train_count]):\n",
    "    path = join(train_dir,'%d.jpg'%i)\n",
    "    copyfile(jpg_path, path)\n",
    "    \n",
    "# test\n",
    "for i,jpg_path in enumerate(jpg_files[train_count:]):\n",
    "    path = join(test_dir,'%d.jpg'%i)\n",
    "    copyfile(jpg_path, path)\n",
    "print 'Done'\n",
    "#     for img_path in os.listdir(d)\n",
    "\n"
   ]
  },
  {
   "cell_type": "code",
   "execution_count": 3,
   "metadata": {},
   "outputs": [
    {
     "name": "stdout",
     "output_type": "stream",
     "text": [
      "Done\n"
     ]
    }
   ],
   "source": [
    "# Emoji\n",
    "import os\n",
    "import cv2\n",
    "from os.path import join\n",
    "emoji_path = join('./','buf_data','EmojiOne_3.1.1_128x128_filted')\n",
    "jpg_files = [join(emoji_path,d) for d in os.listdir(emoji_path) if os.path.isfile(join(emoji_path,d)) and d.endswith('.png') ]\n",
    "\n",
    "\n",
    "#         \n",
    "#     \n",
    "# \n",
    "train_dir = join('./','emoji','trainB')\n",
    "test_dir = join('./','emoji','testB')\n",
    "root_dir = join('./','emoji')\n",
    "if not os.path.isdir(root_dir):\n",
    "    os.mkdir(root_dir)\n",
    "if not os.path.isdir(train_dir):\n",
    "    os.mkdir(train_dir)\n",
    "if not os.path.isdir(test_dir):\n",
    "    os.mkdir(test_dir)\n",
    "N = len(jpg_files)\n",
    "\n",
    "test_count = N // 10\n",
    "train_count = N - test_count\n",
    "\n",
    "# train\n",
    "for i,jpg_path in enumerate(jpg_files[:train_count]):\n",
    "    path = join(train_dir,'%d.jpg'%i)\n",
    "    # convert to jpg\n",
    "    img = cv2.imread(jpg_path)\n",
    "    cv2.imwrite(path, img)\n",
    "    \n",
    "    \n",
    "# test\n",
    "for i,jpg_path in enumerate(jpg_files[train_count:]):\n",
    "    path = join(test_dir,'%d.jpg'%i)\n",
    "    img = cv2.imread(jpg_path)\n",
    "    cv2.imwrite(path, img)\n",
    "    \n",
    "print 'Done'\n",
    "\n",
    "\n",
    "\n"
   ]
  }
 ],
 "metadata": {
  "kernelspec": {
   "display_name": "Python 2.7.12",
   "language": "python",
   "name": "python2.7.12"
  },
  "language_info": {
   "codemirror_mode": {
    "name": "ipython",
    "version": 2
   },
   "file_extension": ".py",
   "mimetype": "text/x-python",
   "name": "python",
   "nbconvert_exporter": "python",
   "pygments_lexer": "ipython2",
   "version": "2.7.12"
  }
 },
 "nbformat": 4,
 "nbformat_minor": 2
}
