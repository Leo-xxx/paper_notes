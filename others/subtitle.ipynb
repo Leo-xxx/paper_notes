{
 "cells": [
  {
   "cell_type": "code",
   "execution_count": 48,
   "metadata": {},
   "outputs": [
    {
     "name": "stdout",
     "output_type": "stream",
     "text": [
      "22\n"
     ]
    }
   ],
   "source": [
    "import os\n",
    "from shutil import copyfile\n",
    "from os.path import join\n",
    "# with open('./') as f:\n",
    "#     f.listdir()\n",
    "dirs = [d for d in os.listdir('./') if os.path.isdir(d) and 'TBBT' in d]\n",
    "# for d in dirs:\n",
    "ns = []\n",
    "\n",
    "def check(f):\n",
    "    a = 'cht' in f and 'en' in f\n",
    "    b = '英' in f and '繁' in f\n",
    "#     print f,a or b\n",
    "    return a or b\n",
    "    \n",
    "file_type = 'ass'\n",
    "for d in dirs:\n",
    "#     file_list = [f for f in os.listdir(d) if os.path.isfile(d + '//' +  f) and ('ass' in f or 'srt' in f)]\n",
    "    file_list = [f for f in os.listdir(d) if os.path.isfile(join(d,f)) and file_type in f]\n",
    "    f1 = [f for f in file_list if check(f.lower())]\n",
    "    assert len(f1) <= 1\n",
    "    if len(f1) > 0:\n",
    "        path = join('./',d,f1[0])\n",
    "#         path = f1[0].decode('utf8')\n",
    "        ns.append(path)\n",
    "    \n",
    "\n",
    "    \n",
    "for i,f in enumerate(ns):\n",
    "#     name = os.path.basename(f)\n",
    "    name = 'The.Big.Bang.Theory.S06E%2d.%s' % (i+1,file_type)\n",
    "    dst = join('./', name)\n",
    "    \n",
    "    copyfile(f,dst)\n",
    "print(len(ns))\n",
    "    "
   ]
  },
  {
   "cell_type": "code",
   "execution_count": 20,
   "metadata": {},
   "outputs": [
    {
     "data": {
      "text/plain": [
       "'abc'"
      ]
     },
     "execution_count": 20,
     "metadata": {},
     "output_type": "execute_result"
    }
   ],
   "source": [
    "'ABC'.lower()"
   ]
  }
 ],
 "metadata": {
  "kernelspec": {
   "display_name": "Python 2",
   "language": "python",
   "name": "python2"
  },
  "language_info": {
   "codemirror_mode": {
    "name": "ipython",
    "version": 2
   },
   "file_extension": ".py",
   "mimetype": "text/x-python",
   "name": "python",
   "nbconvert_exporter": "python",
   "pygments_lexer": "ipython2",
   "version": "2.7.10"
  }
 },
 "nbformat": 4,
 "nbformat_minor": 2
}
