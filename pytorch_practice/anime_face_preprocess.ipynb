{
 "cells": [
  {
   "cell_type": "code",
   "execution_count": 3,
   "metadata": {},
   "outputs": [],
   "source": [
    "# read anime-face csv\n",
    "from os.path import join, isfile\n",
    "import random\n",
    "import pandas as pd\n",
    "import os\n",
    "import cv2\n",
    "import numpy as np\n",
    "from config import ANIME_PATH, ANNOTAION_PATH\n",
    "from PIL import Image\n",
    "from constants import imageSize, loadSize, channel_first\n",
    "def read_img(path):\n",
    "    im = Image.open(path).convert('RGB')\n",
    "    im = im.resize( (loadSize, loadSize), Image.BILINEAR )\n",
    "    arr = np.array(im)\n",
    "    w1,w2 = (loadSize-imageSize)//2,(loadSize+imageSize)//2\n",
    "    h1,h2 = w1,w2\n",
    "    img = arr[h1:h2, w1:w2, :]\n",
    "#     horizontal flip\n",
    "    if random.randint(0,1):\n",
    "        img=img[:,::-1]\n",
    "    if channel_first:        \n",
    "        img = np.moveaxis(img, 2, 0)\n",
    "    return img\n",
    "    \n",
    "\n",
    "def naive_iterative_generator(shuffle=True):\n",
    "\n",
    "    with open(ANNOTAION_PATH, 'r') as f:\n",
    "        csv = pd.read_csv(f)\n",
    "    #     \n",
    "    img_paths = []\n",
    "    tags = []\n",
    "    for row in csv.iterrows():\n",
    "        path, tag = row[1]\n",
    "        img_paths.append(path)\n",
    "        tags.append(tag)\n",
    "        \n",
    "#     generator, miss file count 28213, total count 143297.\n",
    "    N = len(img_paths)\n",
    "    while True:\n",
    "        idxs = range(N)\n",
    "        if shuffle:\n",
    "            random.shuffle(idxs)\n",
    "        for idx in idxs:\n",
    "            path, tag = img_paths[idx], tags[idx]\n",
    "            path = join(ANIME_PATH, path)\n",
    "            if isfile(path):\n",
    "                img = read_img(path)\n",
    "                yield img, tag\n",
    "    \n",
    "def naive_bootsrap_generator():\n",
    "\n",
    "    with open(ANNOTAION_PATH, 'r') as f:\n",
    "        csv = pd.read_csv(f)\n",
    "    #     \n",
    "    img_paths = []\n",
    "    tags = []\n",
    "    for row in csv.iterrows():\n",
    "        path, tag = row[1]\n",
    "        img_paths.append(path)\n",
    "        tags.append(tag)\n",
    "        \n",
    "#     generator, miss file count 28213, total count 143297.\n",
    "    N = len(img_paths)\n",
    "    while True:\n",
    "        idx = random.randint(0,N)\n",
    "        path, tag = img_paths[idx], tags[idx]\n",
    "        path = join(ANIME_PATH, path)\n",
    "        if isfile(path):\n",
    "            img = read_img(path)\n",
    "            yield img, tag\n",
    "\n",
    "\n",
    "def img_generator(g):\n",
    "    batch_size=1\n",
    "    while True:\n",
    "        imgs, tags = [],[]\n",
    "        for i in range(batch_size):\n",
    "            img, tag = g.next()\n",
    "            h,w,dep = img.shape\n",
    "            imgs.append(img.reshape([1, h, w, dep]))\n",
    "            tags.append(tag)\n",
    "        batch_size = ( yield np.vstack(imgs), tags )\n",
    "        \n",
    "#         \n",
    "        if batch_size is None:\n",
    "            batch_size = 1\n",
    "\n",
    "    \n",
    "def bootstrap_generator():\n",
    "    g = naive_bootsrap_generator()\n",
    "    img_g = img_generator(g)\n",
    "    img, tag = img_g.next()\n",
    "    return img_generator(g)\n",
    "\n",
    "def iterative_generator(shuffle=True):\n",
    "    g = naive_iterative_generator(shuffle)\n",
    "    img_g = img_generator(g)\n",
    "    img, tag = img_g.next()\n",
    "    return img_g\n",
    "\n",
    "\n"
   ]
  },
  {
   "cell_type": "code",
   "execution_count": 4,
   "metadata": {},
   "outputs": [],
   "source": [
    "\n",
    "g = iterative_generator()\n"
   ]
  },
  {
   "cell_type": "code",
   "execution_count": 5,
   "metadata": {},
   "outputs": [
    {
     "name": "stdout",
     "output_type": "stream",
     "text": [
      "(6, 3, 64, 64) ['cape', 'choker', 'nishikino_maki', 'closed_eyes', 'braid', 'japanese_clothes']\n"
     ]
    }
   ],
   "source": [
    "%matplotlib inline\n",
    "import matplotlib.pyplot as plt\n",
    "img, tag = g.send(6)\n",
    "print img.shape, tag\n"
   ]
  },
  {
   "cell_type": "code",
   "execution_count": 11,
   "metadata": {},
   "outputs": [
    {
     "name": "stdout",
     "output_type": "stream",
     "text": [
      "(6, 16, 16, 3)\n",
      "uint8\n",
      "True\n"
     ]
    }
   ],
   "source": [
    "img = np.swapaxes(img,1,-1)\n",
    "print img.shape\n",
    "print img.dtype\n",
    "print img.dtype == np.uint8"
   ]
  },
  {
   "cell_type": "code",
   "execution_count": null,
   "metadata": {},
   "outputs": [],
   "source": []
  }
 ],
 "metadata": {
  "kernelspec": {
   "display_name": "Python 2.7.12 (virtualenv)",
   "language": "python",
   "name": "python2.7.12"
  },
  "language_info": {
   "codemirror_mode": {
    "name": "ipython",
    "version": 2
   },
   "file_extension": ".py",
   "mimetype": "text/x-python",
   "name": "python",
   "nbconvert_exporter": "python",
   "pygments_lexer": "ipython2",
   "version": "2.7.12"
  }
 },
 "nbformat": 4,
 "nbformat_minor": 2
}
