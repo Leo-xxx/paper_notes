{
 "cells": [
  {
   "cell_type": "code",
   "execution_count": 1,
   "metadata": {},
   "outputs": [],
   "source": [
    "# read anime-face csv\n",
    "from os.path import join, isfile\n",
    "import random\n",
    "import pandas as pd\n",
    "import imageio\n",
    "import os\n",
    "import numpy as np\n",
    "from config import ANIME_PATH, ANNOTAION_PATH\n",
    "\n",
    "\n",
    "def naive_iterative_generator(shuffle=True):\n",
    "\n",
    "    with open(ANNOTAION_PATH, 'r') as f:\n",
    "        csv = pd.read_csv(f)\n",
    "    #     \n",
    "    img_paths = []\n",
    "    tags = []\n",
    "    for row in csv.iterrows():\n",
    "        path, tag = row[1]\n",
    "        img_paths.append(path)\n",
    "        tags.append(tag)\n",
    "        \n",
    "#     generator, miss file count 28213, total count 143297.\n",
    "    N = len(img_paths)\n",
    "    while True:\n",
    "        idxs = range(N)\n",
    "        if shuffle:\n",
    "            random.shuffle(idxs)\n",
    "        for idx in idxs:\n",
    "            path, tag = img_paths[idx], tags[idx]\n",
    "            path = join(ANIME_PATH, path)\n",
    "            if isfile(path):\n",
    "                img = imageio.imread(path)\n",
    "                yield img, tag\n",
    "    \n",
    "def naive_bootsrap_generator():\n",
    "\n",
    "    with open(ANNOTAION_PATH, 'r') as f:\n",
    "        csv = pd.read_csv(f)\n",
    "    #     \n",
    "    img_paths = []\n",
    "    tags = []\n",
    "    for row in csv.iterrows():\n",
    "        path, tag = row[1]\n",
    "        img_paths.append(path)\n",
    "        tags.append(tag)\n",
    "        \n",
    "#     generator, miss file count 28213, total count 143297.\n",
    "    N = len(img_paths)\n",
    "    while True:\n",
    "        idx = random.randint(0,N)\n",
    "        path, tag = img_paths[idx], tags[idx]\n",
    "        path = join(ANIME_PATH, path)\n",
    "        if isfile(path):\n",
    "            img = imageio.imread(path)\n",
    "            yield img, tag\n",
    "\n",
    "\n",
    "def img_generator(g):\n",
    "    batch_size=1\n",
    "    while True:\n",
    "        imgs, tags = [],[]\n",
    "        for i in range(batch_size):\n",
    "            img, tag = g.next()\n",
    "            h,w,dep = img.shape\n",
    "            imgs.append(img.reshape([1, h, w, dep]))\n",
    "            tags.append(tag)\n",
    "        batch_size = ( yield np.vstack(imgs), tags )\n",
    "        \n",
    "#         \n",
    "        if batch_size is None:\n",
    "            batch_size = 1\n",
    "\n",
    "    \n",
    "def bootstrap_generator():\n",
    "    g = naive_bootsrap_generator()\n",
    "    return img_generator(g)\n",
    "\n",
    "def iterative_generator(shuffle=True):\n",
    "    g = naive_iterative_generator(shuffle)\n",
    "    return img_generator(g)\n",
    "\n",
    "\n"
   ]
  },
  {
   "cell_type": "code",
   "execution_count": 2,
   "metadata": {},
   "outputs": [],
   "source": [
    "\n",
    "g = iterative_generator()\n",
    "img, tag = g.next()\n"
   ]
  },
  {
   "cell_type": "code",
   "execution_count": 3,
   "metadata": {},
   "outputs": [
    {
     "name": "stdout",
     "output_type": "stream",
     "text": [
      "(6, 96, 96, 3) ['necklace', 'blush', 'blazer', 'smile', 'uniform', 'comic']\n"
     ]
    }
   ],
   "source": [
    "%matplotlib inline\n",
    "import matplotlib.pyplot as plt\n",
    "img, tag = g.send(6)\n",
    "print img.shape, tag\n"
   ]
  }
 ],
 "metadata": {
  "kernelspec": {
   "display_name": "Python 2.7.15 (virtualenv)",
   "language": "python",
   "name": "python2.7.15"
  },
  "language_info": {
   "codemirror_mode": {
    "name": "ipython",
    "version": 2
   },
   "file_extension": ".py",
   "mimetype": "text/x-python",
   "name": "python",
   "nbconvert_exporter": "python",
   "pygments_lexer": "ipython2",
   "version": "2.7.15"
  }
 },
 "nbformat": 4,
 "nbformat_minor": 2
}
