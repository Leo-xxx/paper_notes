{
 "cells": [
  {
   "cell_type": "code",
   "execution_count": 2,
   "metadata": {},
   "outputs": [],
   "source": [
    "from os.path import join\n",
    "import pandas as pd\n",
    "anime_path = join('./','data','anime-faces')\n",
    "csv_path = join(anime_path,'annotations.csv')\n",
    "with open(csv_path, 'r') as f:\n",
    "    csv = pd.read_csv(f)"
   ]
  },
  {
   "cell_type": "code",
   "execution_count": 6,
   "metadata": {},
   "outputs": [],
   "source": [
    "img_paths = []\n",
    "tags = []\n",
    "for row in csv.iterrows():\n",
    "    path, tag = row[1]\n",
    "    img_paths.append(path)\n",
    "    tags.append(tag)\n"
   ]
  },
  {
   "cell_type": "code",
   "execution_count": 8,
   "metadata": {},
   "outputs": [
    {
     "name": "stdout",
     "output_type": "stream",
     "text": [
      "126\n",
      "set(['hair_flower', 'witch_hat', 'bare_shoulders', 'braid', 'suzumiya_haruhi', 'sky', 'maid', 'tears', 'purple_hair', 'smile', 'blue_eyes', 'apron', ':o', 'sunglasses', 'blue_hair', ':d', '1boy', 'kirisame_marisa', 'open_mouth', 'hair_bow', 'sweatdrop', 'cape', 'emilia_(re:zero)', 'ayase_eli', 'swimsuit', 'speech_bubble', 'night', 'glasses', 'misaka_mikoto', 'hoshizora_rin', 'nishikino_maki', 'ribbon', 'santa_costume', 'flower', 'serafuku', 'armor', 'uniform', 'hairband', 'purple_eyes', 'earrings', 'red_background', 'long_hair', 'tongue_out', 'minami_kotori', 'choker', 'water', 'nishizumi_miho', 'hairclip', 'very_long_hair', 'underwear', 'looking_back', 'blazer', 'orange_hair', 'headphones', '1girl', 'bow', 'hair_ribbon', 'sweat', 'military', 'sonoda_umi', 'blush', 'scarf', 'akemi_homura', 'comic', 'souryuu_asuka_langley', 'brown_eyes', 'white_hair', 'brown_hair', 'one_eye_closed', 'pink_eyes', 'short_hair', 'collarbone', 'red_eyes', 'pink_hair', 'pointy_ears', 'nagato_yuki', 'yellow_eyes', 'yazawa_nico', 'green_eyes', 'ayanami_rei', 'hat', 'blonde_hair', 'silver_hair', 'animal_ears', 'aqua_eyes', 'honma_meiko', 'black_hair', 'rem_(re:zero)', 'simple_background', 'black_eyes', 'monochrome', 'aqua_hair', 'miyanaga_saki', 'dress', 'black_background', 'looking_at_viewer', 'necktie', 'hakurei_reimu', 'closed_eyes', 'side_ponytail', 'miki_sayaka', 'kimono', 'cat_ears', 'twintails', 'green_hair', 'ponytail', 'koizumi_hanayo', 'kousaka_honoka', 'school_uniform', 'ahoge', 'breasts', 'frills', 'necklace', 'kaname_madoka', 'toujou_nozomi', 'blue_background', 'tongue', 'tomoe_mami', 'akaza_akari', 'fate_testarossa', 'red_hair', 'magical_girl', 'japanese_clothes', 'white_background', 'bunny_ears', 'hair_ornament'])\n"
     ]
    }
   ],
   "source": [
    "tag_set = set(tags)\n",
    "print len(tag_set)\n",
    "print tag_set\n"
   ]
  },
  {
   "cell_type": "code",
   "execution_count": null,
   "metadata": {},
   "outputs": [],
   "source": [
    "# read anime-face csv\n",
    "from os.path import join, isfile\n",
    "import random\n",
    "import pandas as pd\n",
    "import imageio\n",
    "import os\n",
    "import numpy as np\n",
    "from config import ANIME_PATH, ANNOTAION_PATH\n",
    "\n",
    "\n",
    "def naive_iterative_generator(shuffle=True):\n",
    "\n",
    "    with open(ANNOTAION_PATH, 'r') as f:\n",
    "        csv = pd.read_csv(f)\n",
    "    #     \n",
    "    img_paths = []\n",
    "    tags = []\n",
    "    for row in csv.iterrows():\n",
    "        path, tag = row[1]\n",
    "        img_paths.append(path)\n",
    "        tags.append(tag)\n",
    "        \n",
    "#     generator, miss file count 28213, total count 143297.\n",
    "    N = len(img_paths)\n",
    "    while True:\n",
    "        idxs = range(N)\n",
    "        if shuffle:\n",
    "            random.shuffle(idxs)\n",
    "        for idx in idxs:\n",
    "            path, tag = img_paths[idx], tags[idx]\n",
    "            path = join(ANIME_PATH, path)\n",
    "            if isfile(path):\n",
    "                img = imageio.imread(path)\n",
    "                yield img, tag\n",
    "    \n",
    "def naive_bootsrap_generator():\n",
    "\n",
    "    with open(ANNOTAION_PATH, 'r') as f:\n",
    "        csv = pd.read_csv(f)\n",
    "    #     \n",
    "    img_paths = []\n",
    "    tags = []\n",
    "    for row in csv.iterrows():\n",
    "        path, tag = row[1]\n",
    "        img_paths.append(path)\n",
    "        tags.append(tag)\n",
    "        \n",
    "#     generator, miss file count 28213, total count 143297.\n",
    "    N = len(img_paths)\n",
    "    while True:\n",
    "        idx = random.randint(0,N)\n",
    "        path, tag = img_paths[idx], tags[idx]\n",
    "        path = join(ANIME_PATH, path)\n",
    "        if isfile(path):\n",
    "            img = imageio.imread(path)\n",
    "            yield img, tag\n",
    "\n",
    "\n",
    "def img_generator(g):\n",
    "    batch_size=1\n",
    "    while True:\n",
    "        imgs, tags = [],[]\n",
    "        for i in range(batch_size):\n",
    "            img, tag = g.next()\n",
    "            h,w,dep = img.shape\n",
    "            imgs.append(img.reshape([1, h, w, dep]))\n",
    "            tags.append(tag)\n",
    "        batch_size = ( yield np.vstack(imgs), tags )\n",
    "        \n",
    "#         \n",
    "        if batch_size is None:\n",
    "            batch_size = 1\n",
    "\n",
    "    \n",
    "def bootstrap_generator():\n",
    "    g = naive_bootsrap_generator()\n",
    "    return img_generator(g)\n",
    "\n",
    "def iterative_generator(shuffle=True):\n",
    "    g = naive_iterative_generator(shuffle)\n",
    "    return img_generator(g)\n",
    "\n",
    "\n"
   ]
  },
  {
   "cell_type": "code",
   "execution_count": null,
   "metadata": {},
   "outputs": [],
   "source": [
    "\n",
    "g = iterative_generator()\n",
    "img, tag = g.next()\n"
   ]
  },
  {
   "cell_type": "code",
   "execution_count": null,
   "metadata": {},
   "outputs": [],
   "source": [
    "%matplotlib inline\n",
    "import matplotlib.pyplot as plt\n",
    "img, tag = g.send(6)\n",
    "print img.shape, tag\n"
   ]
  }
 ],
 "metadata": {
  "kernelspec": {
   "display_name": "Python 2.7.15 (virtualenv)",
   "language": "python",
   "name": "python2.7.15"
  },
  "language_info": {
   "codemirror_mode": {
    "name": "ipython",
    "version": 2
   },
   "file_extension": ".py",
   "mimetype": "text/x-python",
   "name": "python",
   "nbconvert_exporter": "python",
   "pygments_lexer": "ipython2",
   "version": "2.7.15"
  }
 },
 "nbformat": 4,
 "nbformat_minor": 2
}
